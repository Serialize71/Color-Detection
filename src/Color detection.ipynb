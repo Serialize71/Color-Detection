{
 "cells": [
  {
   "cell_type": "code",
   "execution_count": 2,
   "id": "5a8c98c8-5471-4152-bfdb-0d299a6cd14a",
   "metadata": {},
   "outputs": [],
   "source": [
    "import os    \n",
    "import numpy as np\n",
    "import matplotlib.pyplot as plt\n",
    "import cv2\n",
    "import time\n",
    "os.environ['KMP_DUPLICATE_LIB_OK'] = 'True'\n"
   ]
  },
  {
   "cell_type": "code",
   "execution_count": 3,
   "id": "12943724-6bdd-4116-8eca-f643ee7fccb7",
   "metadata": {},
   "outputs": [],
   "source": [
    "def Red():\n",
    "    thresh_roi = cv2.inRange(changed_roi ,  Red_lower , Red_upper) #will check every pixel in changed_rot\n",
    "    thresh_roi_2  = cv2.inRange(changed_roi , Red_lower_2 ,Red_upper_2)\n",
    "    finalROI_RED = cv2.bitwise_or(thresh_roi , thresh_roi_2) #any pixel in 1 or 2 that is equal to 255 will be 255, and any 0 in both will be zero\n",
    "    ##finding countors\n",
    "    \n",
    "    contours , hierarchy = cv2.findContours(finalROI_RED , cv2.RETR_EXTERNAL , cv2.CHAIN_APPROX_SIMPLE) \n",
    "    \n",
    "\n",
    "    for i in range(len(contours)):\n",
    "      \n",
    "            if cv2.contourArea(contours[i]) > 300:\n",
    "                x, y , w , h = cv2.boundingRect(contours[i])\n",
    "                cv2.rectangle(frame , (x+50 ,y+70 ) ,  (x+w+50 ,y+h+70 ) , (0 , 0 , 255) , 3) #+50 for ROI location\n",
    "\n",
    "\n",
    "    return finalROI_RED"
   ]
  },
  {
   "cell_type": "code",
   "execution_count": 4,
   "id": "8978c9a1-76a1-49eb-9843-b1fd0c0c7628",
   "metadata": {},
   "outputs": [],
   "source": [
    "def Green():\n",
    "    thresh_roi = cv2.inRange(changed_roi ,  Green_lower , Green_upper)\n",
    "    contours , hierarchy = cv2.findContours(thresh_roi , cv2.RETR_EXTERNAL , cv2.CHAIN_APPROX_SIMPLE) \n",
    "    \n",
    "\n",
    "    for i in range(len(contours)):\n",
    "      \n",
    "            if cv2.contourArea(contours[i]) > 250:\n",
    "                x, y , w , h = cv2.boundingRect(contours[i])\n",
    "                cv2.rectangle(frame , (x+50 ,y+70 ) ,  (x+w+50 ,y+h+70 ) , (0 , 255 , 0) , 3) #+50 for ROI location\n",
    "\n",
    "\n",
    "    return thresh_roi"
   ]
  },
  {
   "cell_type": "code",
   "execution_count": 7,
   "id": "fbcebd87-3e2e-46ca-b934-eb395b009d65",
   "metadata": {},
   "outputs": [],
   "source": [
    "def Blue():\n",
    "    thresh_roi = cv2.inRange(changed_roi ,  Blue_lower , Blue_upper)\n",
    "    contours , hierarchy = cv2.findContours(thresh_roi , cv2.RETR_EXTERNAL , cv2.CHAIN_APPROX_SIMPLE) \n",
    "    \n",
    "\n",
    "    for i in range(len(contours)):\n",
    "      \n",
    "            if cv2.contourArea(contours[i]) > 250:\n",
    "                x, y , w , h = cv2.boundingRect(contours[i])\n",
    "                cv2.rectangle(frame , (x+50 ,y+70 ) ,  (x+w+50 ,y+h+70 ) , (255 , 0 , 0) , 3) #+50 for ROI location\n",
    "\n",
    "\n",
    "    return thresh_roi"
   ]
  },
  {
   "cell_type": "code",
   "execution_count": 9,
   "id": "8fe82c8a-38ee-4cd7-a95f-bb4dd2855a1e",
   "metadata": {},
   "outputs": [],
   "source": [
    "cap = cv2.VideoCapture(0)\n",
    "width = str(int(cap.get(cv2.CAP_PROP_FRAME_WIDTH)))\n",
    "height = str(int(cap.get(cv2.CAP_PROP_FRAME_HEIGHT)))\n",
    "strWH = width , height\n",
    "Red_lower = np.array([0 , 100 , 50]) #hue , sat , value\n",
    "Red_upper = np.array([10 , 250  , 255])\n",
    "Red_lower_2 = np.array([175 , 100 , 50]) #second boundary\n",
    "Red_upper_2  = np.array([180 , 250 , 255])\n",
    "\n",
    "Green_lower = np.array([41 , 100 , 50])\n",
    "Green_upper = np.array([75 , 250 , 255])\n",
    "\n",
    "Blue_lower = np.array([90 , 100 , 50])\n",
    "Blue_upper = np.array([134 , 250 , 255])\n",
    "\n",
    "while True:\n",
    "    ret , frame = cap.read()\n",
    "    cv2.rectangle(frame , (50 , 70)  ,  (250 , 210) , (125 , 125 , 125) , 2)\n",
    "    roi = frame[70:210 , 50:250] #rows > y axis , columns > x axis\n",
    "    changed_roi = cv2.cvtColor(roi , cv2.COLOR_BGR2HSV)\n",
    "    finalROI_RED = Red()\n",
    "    finalROI_GREEN = Green()    \n",
    "    finalROI_BLUE = Blue()\n",
    "    cv2.putText(frame ,  str(strWH) , (1,40) , cv2.FONT_HERSHEY_COMPLEX ,  1 , (255 , 0  , 0) , 2 , cv2.LINE_AA)                          \n",
    "    cv2.imshow(\"frame\" , frame)\n",
    "    cv2.imshow(\"thresh RED\" , finalROI_RED)\n",
    "    cv2.imshow(\"thresh GREEN\"  , finalROI_GREEN)\n",
    "    cv2.imshow(\"thresh BLUE\" , finalROI_BLUE)\n",
    "    \n",
    "    if cv2.waitKey(15) == 27:\n",
    "        break\n",
    "\n",
    "cap.release()\n",
    "cv2.destroyAllWindows()\n",
    "\n",
    "\n"
   ]
  },
  {
   "cell_type": "code",
   "execution_count": null,
   "id": "af2d0d88-2181-483a-b38f-3f7cbe9f72bb",
   "metadata": {},
   "outputs": [],
   "source": []
  }
 ],
 "metadata": {
  "kernelspec": {
   "display_name": "Python 3 (ipykernel)",
   "language": "python",
   "name": "python3"
  },
  "language_info": {
   "codemirror_mode": {
    "name": "ipython",
    "version": 3
   },
   "file_extension": ".py",
   "mimetype": "text/x-python",
   "name": "python",
   "nbconvert_exporter": "python",
   "pygments_lexer": "ipython3",
   "version": "3.12.4"
  }
 },
 "nbformat": 4,
 "nbformat_minor": 5
}
